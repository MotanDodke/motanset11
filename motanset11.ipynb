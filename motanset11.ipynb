{
 "cells": [
  {
   "cell_type": "markdown",
   "id": "64f3c4be",
   "metadata": {},
   "source": [
    "# Sets"
   ]
  },
  {
   "cell_type": "code",
   "execution_count": 1,
   "id": "19d6fa1a",
   "metadata": {},
   "outputs": [],
   "source": [
    "#Sets are used to store multiple itmes in a single variable."
   ]
  },
  {
   "cell_type": "code",
   "execution_count": 2,
   "id": "6bdce691",
   "metadata": {},
   "outputs": [
    {
     "data": {
      "text/plain": [
       "()"
      ]
     },
     "execution_count": 2,
     "metadata": {},
     "output_type": "execute_result"
    }
   ],
   "source": [
    "\n",
    "# empty sets \n",
    "set = ()\n",
    "set"
   ]
  },
  {
   "cell_type": "code",
   "execution_count": 4,
   "id": "474be53d",
   "metadata": {},
   "outputs": [
    {
     "data": {
      "text/plain": [
       "{1, 5, 6, 7, 8, 9}"
      ]
     },
     "execution_count": 4,
     "metadata": {},
     "output_type": "execute_result"
    }
   ],
   "source": [
    "# set with curley braces \n",
    "set1 = {5,6,7,8,9,1}\n",
    "set1"
   ]
  },
  {
   "cell_type": "code",
   "execution_count": null,
   "id": "1d732b89",
   "metadata": {},
   "outputs": [],
   "source": [
    "# set function\n",
    "sets = ([33,55,66,77,88])\n",
    "sets"
   ]
  },
  {
   "cell_type": "markdown",
   "id": "52e0c24d",
   "metadata": {},
   "source": [
    "# Add"
   ]
  },
  {
   "cell_type": "code",
   "execution_count": 6,
   "id": "6cbe4f93",
   "metadata": {},
   "outputs": [],
   "source": [
    "#adds an element to the sets.if the element already exists , the set remains unchanged."
   ]
  },
  {
   "cell_type": "code",
   "execution_count": 7,
   "id": "2be2adc8",
   "metadata": {},
   "outputs": [
    {
     "data": {
      "text/plain": [
       "{1, 5, 6, 7, 8, 9}"
      ]
     },
     "execution_count": 7,
     "metadata": {},
     "output_type": "execute_result"
    }
   ],
   "source": [
    "set1"
   ]
  },
  {
   "cell_type": "code",
   "execution_count": 10,
   "id": "ec81d0be",
   "metadata": {},
   "outputs": [],
   "source": [
    "set1.add(2)"
   ]
  },
  {
   "cell_type": "code",
   "execution_count": 11,
   "id": "f05dd2e3",
   "metadata": {},
   "outputs": [
    {
     "data": {
      "text/plain": [
       "{1, 2, 5, 6, 7, 8, 9}"
      ]
     },
     "execution_count": 11,
     "metadata": {},
     "output_type": "execute_result"
    }
   ],
   "source": [
    "set1"
   ]
  },
  {
   "cell_type": "markdown",
   "id": "d6d8cf70",
   "metadata": {},
   "source": [
    "# Clear"
   ]
  },
  {
   "cell_type": "code",
   "execution_count": 12,
   "id": "ba9a5582",
   "metadata": {},
   "outputs": [],
   "source": [
    "#it removes all element from the set,leaving it empty.\n"
   ]
  },
  {
   "cell_type": "code",
   "execution_count": 13,
   "id": "12ac379e",
   "metadata": {},
   "outputs": [],
   "source": [
    "set1.clear()"
   ]
  },
  {
   "cell_type": "code",
   "execution_count": 14,
   "id": "2d315c6b",
   "metadata": {},
   "outputs": [
    {
     "data": {
      "text/plain": [
       "set()"
      ]
     },
     "execution_count": 14,
     "metadata": {},
     "output_type": "execute_result"
    }
   ],
   "source": [
    "\n",
    "set1"
   ]
  },
  {
   "cell_type": "markdown",
   "id": "43c0b5cc",
   "metadata": {},
   "source": [
    "# Copy"
   ]
  },
  {
   "cell_type": "code",
   "execution_count": 15,
   "id": "b06a7a00",
   "metadata": {},
   "outputs": [],
   "source": [
    "#it returns a shallow copy of the sets."
   ]
  },
  {
   "cell_type": "code",
   "execution_count": 17,
   "id": "fe7ef94d",
   "metadata": {},
   "outputs": [],
   "source": [
    "set1 = {5,6,7,8,9,1}"
   ]
  },
  {
   "cell_type": "code",
   "execution_count": 18,
   "id": "811a2991",
   "metadata": {},
   "outputs": [
    {
     "data": {
      "text/plain": [
       "{1, 5, 6, 7, 8, 9}"
      ]
     },
     "execution_count": 18,
     "metadata": {},
     "output_type": "execute_result"
    }
   ],
   "source": [
    "set1"
   ]
  },
  {
   "cell_type": "code",
   "execution_count": 19,
   "id": "08e054d3",
   "metadata": {},
   "outputs": [
    {
     "data": {
      "text/plain": [
       "{1, 5, 6, 7, 8, 9}"
      ]
     },
     "execution_count": 19,
     "metadata": {},
     "output_type": "execute_result"
    }
   ],
   "source": [
    "\n",
    "set1.copy()"
   ]
  },
  {
   "cell_type": "code",
   "execution_count": 20,
   "id": "1e70779e",
   "metadata": {},
   "outputs": [
    {
     "data": {
      "text/plain": [
       "{1, 5, 6, 7, 8, 9}"
      ]
     },
     "execution_count": 20,
     "metadata": {},
     "output_type": "execute_result"
    }
   ],
   "source": [
    "set1"
   ]
  },
  {
   "cell_type": "markdown",
   "id": "7b2f9b1b",
   "metadata": {},
   "source": [
    "# Difference"
   ]
  },
  {
   "cell_type": "code",
   "execution_count": 22,
   "id": "9738e8f4",
   "metadata": {},
   "outputs": [],
   "source": [
    "#it returns a new set with elements that are in the set but not in the others."
   ]
  },
  {
   "cell_type": "code",
   "execution_count": 23,
   "id": "45d9bd63",
   "metadata": {},
   "outputs": [],
   "source": [
    "\n",
    "s1 = {5,6,7}\n",
    "s2 = {4,3,2}"
   ]
  },
  {
   "cell_type": "code",
   "execution_count": 24,
   "id": "82029baa",
   "metadata": {},
   "outputs": [],
   "source": [
    "\n",
    "diff_set = s1.difference(s2)"
   ]
  },
  {
   "cell_type": "code",
   "execution_count": 25,
   "id": "688b0573",
   "metadata": {},
   "outputs": [
    {
     "data": {
      "text/plain": [
       "{5, 6, 7}"
      ]
     },
     "execution_count": 25,
     "metadata": {},
     "output_type": "execute_result"
    }
   ],
   "source": [
    "\n",
    "diff_set"
   ]
  },
  {
   "cell_type": "markdown",
   "id": "c4c5c092",
   "metadata": {},
   "source": [
    "# Difference_update"
   ]
  },
  {
   "cell_type": "code",
   "execution_count": 26,
   "id": "901e0f4e",
   "metadata": {},
   "outputs": [],
   "source": [
    "#it removes elements from the sets that are also in the other.\n"
   ]
  },
  {
   "cell_type": "code",
   "execution_count": 27,
   "id": "5ae5aa65",
   "metadata": {},
   "outputs": [
    {
     "data": {
      "text/plain": [
       "{5, 6, 7}"
      ]
     },
     "execution_count": 27,
     "metadata": {},
     "output_type": "execute_result"
    }
   ],
   "source": [
    "s1"
   ]
  },
  {
   "cell_type": "code",
   "execution_count": 28,
   "id": "3d72451b",
   "metadata": {},
   "outputs": [
    {
     "data": {
      "text/plain": [
       "{2, 3, 4}"
      ]
     },
     "execution_count": 28,
     "metadata": {},
     "output_type": "execute_result"
    }
   ],
   "source": [
    "s2"
   ]
  },
  {
   "cell_type": "code",
   "execution_count": 29,
   "id": "1deb31e7",
   "metadata": {},
   "outputs": [],
   "source": [
    "\n",
    "s1.difference_update(s2)"
   ]
  },
  {
   "cell_type": "markdown",
   "id": "20add1e9",
   "metadata": {},
   "source": [
    "# "
   ]
  },
  {
   "cell_type": "code",
   "execution_count": 30,
   "id": "b6dede15",
   "metadata": {},
   "outputs": [
    {
     "data": {
      "text/plain": [
       "{5, 6, 7}"
      ]
     },
     "execution_count": 30,
     "metadata": {},
     "output_type": "execute_result"
    }
   ],
   "source": [
    "s1"
   ]
  },
  {
   "cell_type": "markdown",
   "id": "325f7224",
   "metadata": {},
   "source": [
    "# Discard"
   ]
  },
  {
   "cell_type": "code",
   "execution_count": 31,
   "id": "e28bfe81",
   "metadata": {},
   "outputs": [],
   "source": [
    "#it removes an element from the set,if it is a member.if the element is not a member,do nothing.\n"
   ]
  },
  {
   "cell_type": "code",
   "execution_count": 32,
   "id": "59601b85",
   "metadata": {},
   "outputs": [],
   "source": [
    "set1 = {5,6,7,8,9,1}"
   ]
  },
  {
   "cell_type": "code",
   "execution_count": 33,
   "id": "a57d14f2",
   "metadata": {},
   "outputs": [
    {
     "data": {
      "text/plain": [
       "{1, 5, 6, 7, 8, 9}"
      ]
     },
     "execution_count": 33,
     "metadata": {},
     "output_type": "execute_result"
    }
   ],
   "source": [
    "set1"
   ]
  },
  {
   "cell_type": "code",
   "execution_count": 34,
   "id": "92fc2335",
   "metadata": {},
   "outputs": [],
   "source": [
    "set1.discard(2)"
   ]
  },
  {
   "cell_type": "code",
   "execution_count": 35,
   "id": "49376fdb",
   "metadata": {},
   "outputs": [
    {
     "data": {
      "text/plain": [
       "{1, 5, 6, 7, 8, 9}"
      ]
     },
     "execution_count": 35,
     "metadata": {},
     "output_type": "execute_result"
    }
   ],
   "source": [
    "set1"
   ]
  },
  {
   "cell_type": "markdown",
   "id": "3fb7c7a7",
   "metadata": {},
   "source": [
    "# Interection"
   ]
  },
  {
   "cell_type": "code",
   "execution_count": 36,
   "id": "ed74711d",
   "metadata": {},
   "outputs": [],
   "source": [
    "#it returns a new set with element commin to set and all others\n"
   ]
  },
  {
   "cell_type": "code",
   "execution_count": 39,
   "id": "14cfd9e6",
   "metadata": {},
   "outputs": [],
   "source": [
    "s1 = {1,2,3}\n",
    "s2 = {4,3,2}\n"
   ]
  },
  {
   "cell_type": "code",
   "execution_count": 40,
   "id": "af6ea04a",
   "metadata": {},
   "outputs": [
    {
     "data": {
      "text/plain": [
       "{2, 3}"
      ]
     },
     "execution_count": 40,
     "metadata": {},
     "output_type": "execute_result"
    }
   ],
   "source": [
    "\n",
    "s1.intersection(s2)"
   ]
  },
  {
   "cell_type": "markdown",
   "id": "e49d68d7",
   "metadata": {},
   "source": [
    "# Intersection_update"
   ]
  },
  {
   "cell_type": "code",
   "execution_count": 41,
   "id": "8961eefe",
   "metadata": {},
   "outputs": [],
   "source": [
    "#it updates the set,keeping only elements found in it and all others."
   ]
  },
  {
   "cell_type": "code",
   "execution_count": 42,
   "id": "7c6ea980",
   "metadata": {},
   "outputs": [],
   "source": [
    "s1 = {1,2,3}\n",
    "s2 = {4,3,2}"
   ]
  },
  {
   "cell_type": "code",
   "execution_count": 43,
   "id": "74e9cc49",
   "metadata": {},
   "outputs": [],
   "source": [
    "\n",
    "s1.intersection_update(s2)"
   ]
  },
  {
   "cell_type": "code",
   "execution_count": 44,
   "id": "c116b43a",
   "metadata": {},
   "outputs": [
    {
     "data": {
      "text/plain": [
       "{2, 3}"
      ]
     },
     "execution_count": 44,
     "metadata": {},
     "output_type": "execute_result"
    }
   ],
   "source": [
    "s1"
   ]
  },
  {
   "cell_type": "markdown",
   "id": "dbe2e440",
   "metadata": {},
   "source": [
    "# Isdisjoint"
   ]
  },
  {
   "cell_type": "code",
   "execution_count": 45,
   "id": "77ecb963",
   "metadata": {},
   "outputs": [],
   "source": [
    "#it returns true if all elemnts of the sets are in other ,false otherwise.\n"
   ]
  },
  {
   "cell_type": "code",
   "execution_count": 51,
   "id": "f66628fc",
   "metadata": {},
   "outputs": [
    {
     "data": {
      "text/plain": [
       "True"
      ]
     },
     "execution_count": 51,
     "metadata": {},
     "output_type": "execute_result"
    }
   ],
   "source": [
    "s1.issubset(s2)"
   ]
  },
  {
   "cell_type": "markdown",
   "id": "5ef09f48",
   "metadata": {},
   "source": [
    "## Issuperset"
   ]
  },
  {
   "cell_type": "code",
   "execution_count": 48,
   "id": "072cf593",
   "metadata": {},
   "outputs": [],
   "source": [
    "#this method returns true if all elements of other are in the set,false otherwise.\n",
    "\n"
   ]
  },
  {
   "cell_type": "code",
   "execution_count": 49,
   "id": "ed3f2fe5",
   "metadata": {},
   "outputs": [
    {
     "data": {
      "text/plain": [
       "False"
      ]
     },
     "execution_count": 49,
     "metadata": {},
     "output_type": "execute_result"
    }
   ],
   "source": [
    "\n",
    "s1.issuperset(s2)"
   ]
  },
  {
   "cell_type": "markdown",
   "id": "5685e57a",
   "metadata": {},
   "source": [
    "# Pop"
   ]
  },
  {
   "cell_type": "code",
   "execution_count": 52,
   "id": "697cfa36",
   "metadata": {},
   "outputs": [],
   "source": [
    "#It removes and returns an arbitary element from the sets. raises key error if the set is empty.\n"
   ]
  },
  {
   "cell_type": "code",
   "execution_count": 54,
   "id": "822659ff",
   "metadata": {},
   "outputs": [],
   "source": [
    "set1 = {5,6,7,8,9,1}"
   ]
  },
  {
   "cell_type": "code",
   "execution_count": 55,
   "id": "824a3c08",
   "metadata": {},
   "outputs": [
    {
     "data": {
      "text/plain": [
       "{1, 5, 6, 7, 8, 9}"
      ]
     },
     "execution_count": 55,
     "metadata": {},
     "output_type": "execute_result"
    }
   ],
   "source": [
    "set1"
   ]
  },
  {
   "cell_type": "code",
   "execution_count": 56,
   "id": "33419149",
   "metadata": {},
   "outputs": [
    {
     "data": {
      "text/plain": [
       "1"
      ]
     },
     "execution_count": 56,
     "metadata": {},
     "output_type": "execute_result"
    }
   ],
   "source": [
    "\n",
    "set1.pop()"
   ]
  },
  {
   "cell_type": "code",
   "execution_count": 57,
   "id": "8eb47705",
   "metadata": {},
   "outputs": [
    {
     "data": {
      "text/plain": [
       "{5, 6, 7, 8, 9}"
      ]
     },
     "execution_count": 57,
     "metadata": {},
     "output_type": "execute_result"
    }
   ],
   "source": [
    "set1"
   ]
  },
  {
   "cell_type": "markdown",
   "id": "498d0e56",
   "metadata": {},
   "source": [
    "# Symmetric_difference"
   ]
  },
  {
   "cell_type": "code",
   "execution_count": 58,
   "id": "1e590a46",
   "metadata": {},
   "outputs": [],
   "source": [
    "#it returns a new set with element in either the set or other but not in both."
   ]
  },
  {
   "cell_type": "code",
   "execution_count": 59,
   "id": "5347d4c9",
   "metadata": {},
   "outputs": [
    {
     "data": {
      "text/plain": [
       "{2, 3}"
      ]
     },
     "execution_count": 59,
     "metadata": {},
     "output_type": "execute_result"
    }
   ],
   "source": [
    "s1"
   ]
  },
  {
   "cell_type": "code",
   "execution_count": 60,
   "id": "f5908168",
   "metadata": {},
   "outputs": [
    {
     "data": {
      "text/plain": [
       "{2, 3, 4}"
      ]
     },
     "execution_count": 60,
     "metadata": {},
     "output_type": "execute_result"
    }
   ],
   "source": [
    "s2"
   ]
  },
  {
   "cell_type": "code",
   "execution_count": 61,
   "id": "9a3f2271",
   "metadata": {},
   "outputs": [
    {
     "data": {
      "text/plain": [
       "{4}"
      ]
     },
     "execution_count": 61,
     "metadata": {},
     "output_type": "execute_result"
    }
   ],
   "source": [
    "s1.symmetric_difference(s2)"
   ]
  },
  {
   "cell_type": "markdown",
   "id": "cf9d557c",
   "metadata": {},
   "source": [
    "# Symmetric_difeernce_update"
   ]
  },
  {
   "cell_type": "code",
   "execution_count": 62,
   "id": "aa2d8eb4",
   "metadata": {},
   "outputs": [],
   "source": [
    "\n",
    "s1.symmetric_difference_update(s2)"
   ]
  },
  {
   "cell_type": "code",
   "execution_count": 63,
   "id": "1fe280a6",
   "metadata": {},
   "outputs": [
    {
     "data": {
      "text/plain": [
       "{4}"
      ]
     },
     "execution_count": 63,
     "metadata": {},
     "output_type": "execute_result"
    }
   ],
   "source": [
    "s1"
   ]
  },
  {
   "cell_type": "markdown",
   "id": "b40c5522",
   "metadata": {},
   "source": [
    "# Union"
   ]
  },
  {
   "cell_type": "code",
   "execution_count": 64,
   "id": "709656eb",
   "metadata": {},
   "outputs": [],
   "source": [
    "#It returns a new set with elements from the set and all others."
   ]
  },
  {
   "cell_type": "code",
   "execution_count": 65,
   "id": "18efb61d",
   "metadata": {},
   "outputs": [
    {
     "data": {
      "text/plain": [
       "{2, 3, 4}"
      ]
     },
     "execution_count": 65,
     "metadata": {},
     "output_type": "execute_result"
    }
   ],
   "source": [
    "\n",
    "s1.union(s2)\n"
   ]
  },
  {
   "cell_type": "markdown",
   "id": "4fe5ac34",
   "metadata": {},
   "source": [
    "# Update"
   ]
  },
  {
   "cell_type": "code",
   "execution_count": 67,
   "id": "10e790f0",
   "metadata": {},
   "outputs": [],
   "source": [
    "#This methods update the sets,adding elements from all others."
   ]
  },
  {
   "cell_type": "code",
   "execution_count": 68,
   "id": "eabc8db6",
   "metadata": {},
   "outputs": [],
   "source": [
    "s1.update(s2)"
   ]
  },
  {
   "cell_type": "code",
   "execution_count": 69,
   "id": "1b834222",
   "metadata": {},
   "outputs": [
    {
     "data": {
      "text/plain": [
       "{2, 3, 4}"
      ]
     },
     "execution_count": 69,
     "metadata": {},
     "output_type": "execute_result"
    }
   ],
   "source": [
    "s1"
   ]
  },
  {
   "cell_type": "code",
   "execution_count": null,
   "id": "812dfee9",
   "metadata": {},
   "outputs": [],
   "source": []
  }
 ],
 "metadata": {
  "kernelspec": {
   "display_name": "Python 3 (ipykernel)",
   "language": "python",
   "name": "python3"
  },
  "language_info": {
   "codemirror_mode": {
    "name": "ipython",
    "version": 3
   },
   "file_extension": ".py",
   "mimetype": "text/x-python",
   "name": "python",
   "nbconvert_exporter": "python",
   "pygments_lexer": "ipython3",
   "version": "3.11.5"
  }
 },
 "nbformat": 4,
 "nbformat_minor": 5
}
